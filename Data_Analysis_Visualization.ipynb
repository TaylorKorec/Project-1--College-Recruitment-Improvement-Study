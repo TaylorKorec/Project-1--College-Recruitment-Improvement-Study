{
 "cells": [
  {
   "cell_type": "markdown",
   "id": "bdc2aec5-197f-4c48-ba55-f874cbb2c850",
   "metadata": {},
   "source": [
    "# Introduction to Project: 1\n",
    "### Taylor Korec\n",
    "#### 2/24/2025\n",
    "#### Section 1 of this notebook will explore and clean the data from a survey given to students by the CCM Department of Information Technologies.\n",
    "#### Then in section 2 we will perform data analysis and create visualizations on the cleaned data\n",
    "#### Use the finds to answer questions and give feedback to CCM IT Department\n"
   ]
  },
  {
   "cell_type": "markdown",
   "id": "2713dcfa-4d81-47fc-9e3a-62c7445abfe4",
   "metadata": {},
   "source": [
    "## Imports: Libraries used"
   ]
  },
  {
   "cell_type": "code",
   "execution_count": 513,
   "id": "44a3452b-fa76-4601-94be-e40052bbd8a7",
   "metadata": {},
   "outputs": [],
   "source": [
    "# Importing the pandas library as pd\n",
    "import pandas as pd\n",
    "import matplotlib.pyplot as plt"
   ]
  },
  {
   "cell_type": "markdown",
   "id": "087b6b7a-36ef-4e81-8d3f-ba959ea6eff7",
   "metadata": {},
   "source": [
    "# Section 1 Importing and Data Cleaning Process\n",
    "## Part 1: Importing\n",
    "#### Reading in the non-major 2024 survey results dataset that is in a csv file format\n",
    "#### Reading that dataset into a pandas data frame "
   ]
  },
  {
   "cell_type": "code",
   "execution_count": 515,
   "id": "9a743b24-a38b-47dc-a1d8-01b9a3485f39",
   "metadata": {},
   "outputs": [],
   "source": [
    "# reading in survery file as csv in dataframe \"df2\"\n",
    "df2= pd.read_csv(\"Non-Majors Survey Results - Fall 2024.csv\")"
   ]
  },
  {
   "cell_type": "markdown",
   "id": "7a8c48af-bbbe-4f42-8828-a55d9dc176ce",
   "metadata": {},
   "source": [
    "## Part 2: Data Cleaning\n",
    "\n",
    "## Dropping Columns\n",
    "#### Start by dropping columns we won't be using later in the data analysis section\n",
    "#### This will help clear out unnecessary data and leave the data we will need for later"
   ]
  },
  {
   "cell_type": "code",
   "execution_count": 517,
   "id": "02e32220-c96d-4ac1-bb89-af320191f135",
   "metadata": {},
   "outputs": [],
   "source": [
    "# Placing the columns names of each column we want to drop into a list\n",
    "drop_col= [\"To what extent did the following activities or experience impact your decision to enroll in an computing course at CCM? [Middle/High school computing class]\",\n",
    "           \"To what extent did the following activities or experience impact your decision to enroll in an computing course at CCM? [Middle/High school computing class]\",\n",
    "           \"To what extent did the following activities or experience impact your decision to enroll in an computing course at CCM? [Middle/High school computing related club]\",\n",
    "           \"To what extent did the following activities or experience impact your decision to enroll in an computing course at CCM? [Computing-related competitions (e.g., Robotics competition, Lego competition, Cybersecurity, Programming)]\", \n",
    "           \"To what extent did the following activities or experience impact your decision to enroll in an computing course at CCM? [Afterschool computing-related camp/program]\",\n",
    "           \"To what extent did the following activities or experience impact your decision to enroll in an computing course at CCM? [Summer computing related camp/program]\", \"To what extent did the following activities or experience impact your decision to enroll in an computing course at CCM? [An AP computing class]\", \"To what extent did the following activities or experience impact your decision to enroll in an computing course at CCM? [A dual enrollment computing class]\", \"To what extent did the following activities or experience impact your decision to enroll in an computing course at CCM? [Family or friend working in the computing field]\", \"To what extent did the following activities or experience impact your decision to enroll in an computing course at CCM? [High school teacher or guidance counselor]\", \"To what extent did the following activities or experience impact your decision to enroll in an computing course at CCM? [Employer influence]\",\n",
    "           \"How did you hear about County College of Morris  [CCM Web site]\",\n",
    "           \"How did you hear about County College of Morris  [Billboard]\",\n",
    "           \"How did you hear about County College of Morris  [Television]\",\n",
    "           \"How did you hear about County College of Morris  [Radio]\",\n",
    "           \"How did you hear about County College of Morris  [Social Media]\",\n",
    "           \"How did you hear about County College of Morris  [Community Event]\",\n",
    "           \"How did you hear about County College of Morris  [Family member or friend]\",\n",
    "           \"How did you hear about County College of Morris  [Employer]\",\n",
    "           \"How did you hear about County College of Morris  [Current student]\",\n",
    "           \"How did you hear about County College of Morris  [Alumni]\", \n",
    "           \"How did you hear about County College of Morris  [High School]\",\n",
    "           \"To what extent did the following impact your decision to attend County College of Morris? [Affordable cost]\",\n",
    "           \"To what extent did the following impact your decision to attend County College of Morris? [Location/convenience]\",\n",
    "           \"To what extent did the following impact your decision to attend County College of Morris? [Choice of programs]\",\n",
    "           \"To what extent did the following impact your decision to attend County College of Morris? [Online offerings]\",\n",
    "           \"To what extent did the following impact your decision to attend County College of Morris? [Family/friend referral]\",\n",
    "           \"To what extent did the following impact your decision to attend County College of Morris? [Faculty/staff]\",\n",
    "           \"To what extent did the following impact your decision to attend County College of Morris? [College reputation]\",\n",
    "           \"To what extent did the following impact your decision to attend County College of Morris? [Scholarships]\",\n",
    "           \"To what extent did the following impact your decision to attend County College of Morris? [Transfer student]\",\n",
    "           \"To what extent did the following impact your decision to attend County College of Morris? [Small class sizes]\",\n",
    "           \"To what extent did the following impact your decision to attend County College of Morris? [Extra curricula opportunities]\",\n",
    "           \"Gender\",\n",
    "           \"Race/ethnicity\",\n",
    "           \"Age \"]\n",
    "# Modifying the orginal data frame and dropping the columns\n",
    "df2.drop(drop_col, inplace=True, axis=1)"
   ]
  },
  {
   "cell_type": "markdown",
   "id": "977a0ccc-0837-4063-baf9-4bbc54f9c077",
   "metadata": {},
   "source": [
    "## Renaming Columns\n",
    "### Next we will rename the columns into one lowercase word\n",
    "### to declutter dataframe and give more accurate results in the data analysis process \n",
    "### This will make the dataset more readable and pervent errors in capitalization \n",
    "### For some sections of columns we will use a keyword starting each columns name with to help seperate the different questions of the survey"
   ]
  },
  {
   "cell_type": "code",
   "execution_count": 519,
   "id": "972c5736-ee85-4d58-8ce4-850d66dbc1a9",
   "metadata": {
    "scrolled": true
   },
   "outputs": [],
   "source": [
    "# creating a dictionary that maps the current columns name to the new name\n",
    "# the new name as lower case\n",
    "# creating sections for questions by using a keyword_ new name \n",
    "rename_col= {\"Timestamp\":\"timestamp\",\n",
    "             \"Which course are you currently enrolled in?\":\"course\",\n",
    "             \"What motivated you to seek a computing class at CCM? [It’s a required class for the degree I’m seeking]\":\"motivation_required\",\n",
    "             \"What motivated you to seek a computing class at CCM? [To keep current in computing skills]\":\"motivation_current_skills\",\n",
    "             \"What motivated you to seek a computing class at CCM? [Career Advancement]\":\"motivation_career_advancement\",\n",
    "             \"What motivated you to seek a computing class at CCM? [Career Change]\":\"motivation_change\",\n",
    "             \"What motivated you to seek a computing class at CCM? [Professional Development]\":\"motivation_development\", \n",
    "             \"What motivated you to seek a computing class at CCM? [Job Displacement]\":\"motivation_job_displacement\",\n",
    "             \"What motivated you to seek a computing class at CCM? [Relocation]\":\"motivation_relocation\",\n",
    "             \"What motivated you to seek a computing class at CCM? [IT Industry Certifications]\":\"motivation_certifications\",\n",
    "             \"What motivated you to seek a computing class at CCM? [Financial]\":\"motivation_financial\",\n",
    "             \"What motivated you to seek a computing class at CCM? [Personal Enrichment]\":\"motivation_personal\",\n",
    "             \"What motivated you to seek a computing class at CCM? [Curiosity]\":\"motivation_curiosity\",\n",
    "             \"Prior to applying to college, did you participate in any of the following events or activities at the County College of Morris and/or with the Department of Information Technologies, if at all? [Open House]\":\"open_house\",\n",
    "             \"Prior to applying to college, did you participate in any of the following events or activities at the County College of Morris and/or with the Department of Information Technologies, if at all? [Instant Decision Day]\":\"instant_decision\",\n",
    "             \"Prior to applying to college, did you participate in any of the following events or activities at the County College of Morris and/or with the Department of Information Technologies, if at all? [On-Campus Information Session]\":\"oncampus_info\",\n",
    "             \"Prior to applying to college, did you participate in any of the following events or activities at the County College of Morris and/or with the Department of Information Technologies, if at all? [TItan's Tuesday Virtual Information Session]\":\"virtual_info\",\n",
    "             \"Prior to applying to college, did you participate in any of the following events or activities at the County College of Morris and/or with the Department of Information Technologies, if at all? [Women Who Dare]\":\"women_dare\",\n",
    "             \"Prior to applying to college, did you participate in any of the following events or activities at the County College of Morris and/or with the Department of Information Technologies, if at all? [Regional College Fair]\":\"college_fair\",\n",
    "             \"What degree program are you currently enrolled in?\":\"major\",\n",
    "             \"Did you receive information about our computing course from any of the following sources? [High school guidance counselor]\":\"computing_hs_counselor\",\n",
    "             \"Did you receive information about our computing course from any of the following sources? [CCM Information Technologies Website]\":\"website\",\n",
    "             \"Did you receive information about our computing course from any of the following sources? [CCM Admissions]\":\"admissions\",\n",
    "             \"Did you receive information about our computing course from any of the following sources? [CCM advisor/counselor]\":\"advisor_counselor\",\n",
    "             \"Did you receive information about our computing course from any of the following sources? [Employer]\":\"employer\",\n",
    "             \"Did you receive information about our computing course from any of the following sources? [Other]\":\"info_other\",\n",
    "             \"On a scale of 1 to 5, with 1 being not at all interested and 5 being extremely interested, how interested are you taking more courses in Computer Science, Information Technology or Game Development?\":\"scale\",\n",
    "             \"If you answered that you were interested in taking more computing classes, which ones interest you most? [Web Development]\":\"web_development\",\n",
    "             \"If you answered that you were interested in taking more computing classes, which ones interest you most? [CyberSecurity]\":\"cybersecurity\",\n",
    "             \"If you answered that you were interested in taking more computing classes, which ones interest you most? [App Development]\":\"app_development\",\n",
    "             \"If you answered that you were interested in taking more computing classes, which ones interest you most? [Data Analytics]\":\"data_analytics\",\n",
    "             \"If you answered that you were interested in taking more computing classes, which ones interest you most? [Machine Learning/Artificial Intelligence]\":\"ml_ai\",\n",
    "             \"If you answered that you were interested in taking more computing classes, which ones interest you most? [Computer Programming]\":\"comp_prog\",\n",
    "             \"If you answered that you were interested in taking more computing classes, which ones interest you most? [Game Design]\":\"game\",\n",
    "             \"If you answered that you were interested in taking more computing classes, which ones interest you most? [Hardware Installation & Repair]\":\" hardware\",\n",
    "             \"To what extent did the following activities or experience impact your decision to enroll in an computing course at CCM? [Family or friend influence]\": \"enroll_fri_fam\"}\n",
    "# using .rename and modifying the orginal dataframe\n",
    "df2.rename(columns=rename_col, inplace=True)"
   ]
  },
  {
   "cell_type": "code",
   "execution_count": 520,
   "id": "9e0248a2-2eaf-4de5-9428-f540657d6906",
   "metadata": {},
   "outputs": [
    {
     "data": {
      "text/plain": [
       "Index(['timestamp', 'course', 'motivation_required',\n",
       "       'motivation_current_skills', 'motivation_career_advancement',\n",
       "       'motivation_change', 'motivation_development',\n",
       "       'motivation_job_displacement', 'motivation_relocation',\n",
       "       'motivation_certifications', 'motivation_financial',\n",
       "       'motivation_personal', 'motivation_curiosity', 'open_house',\n",
       "       'instant_decision', 'oncampus_info', 'virtual_info', 'women_dare',\n",
       "       'college_fair', 'enroll_fri_fam', 'major', 'computing_hs_counselor',\n",
       "       'website', 'admissions', 'advisor_counselor', 'employer', 'info_other',\n",
       "       'scale', 'web_development', 'cybersecurity', 'app_development',\n",
       "       'data_analytics', 'ml_ai', 'comp_prog', 'game', ' hardware'],\n",
       "      dtype='object')"
      ]
     },
     "execution_count": 520,
     "metadata": {},
     "output_type": "execute_result"
    }
   ],
   "source": [
    "# checking that the columns were dropped and renamed\n",
    "df2.columns"
   ]
  },
  {
   "cell_type": "markdown",
   "id": "0199d7d3-69cf-4cb7-a5d6-b977fc41f9f8",
   "metadata": {},
   "source": [
    "# Section 2\n",
    "## Performing Data analysis and Visualization\n",
    "### Analyze and explore the cleaned data from section 1\n",
    "### Get results needed to answer questions and give feedback to CCM IT department"
   ]
  },
  {
   "cell_type": "markdown",
   "id": "653b4e36-f654-434f-a483-65b610fd3ed4",
   "metadata": {},
   "source": [
    "## Part 1: Question 1\n",
    "### \"What were the top reasons why students enrolled in a computing course? Show a bar chart of this field, sort from highest to lowest\"\n",
    "### Analyze the section of the survey that focuses on why the students enrolled in a computing course\n",
    "\n",
    "### In pervous step we renamed most sections with a keyword, we will use the motivation section\n",
    "### First, find the columns with the most amount of \"yes\"(s) in the motivation section\n",
    "### Which will indicate the top reasons why students enrolled in a computing course"
   ]
  },
  {
   "cell_type": "code",
   "execution_count": 523,
   "id": "e979de02-8545-4d5b-a21f-373446bbe990",
   "metadata": {},
   "outputs": [
    {
     "name": "stdout",
     "output_type": "stream",
     "text": [
      "motivation_required\n",
      "Yes    82\n",
      "No     10\n",
      "Name: count, dtype: int64\n",
      "motivation_current_skills\n",
      "Yes    70\n",
      "No     22\n",
      "Name: count, dtype: int64\n",
      "motivation_career_advancement\n",
      "Yes    54\n",
      "No     38\n",
      "Name: count, dtype: int64\n",
      "motivation_change\n",
      "No     74\n",
      "Yes    18\n",
      "Name: count, dtype: int64\n",
      "motivation_development\n",
      "Yes    65\n",
      "No     27\n",
      "Name: count, dtype: int64\n",
      "motivation_job_displacement\n",
      "No     71\n",
      "Yes    21\n",
      "Name: count, dtype: int64\n",
      "motivation_relocation\n",
      "No     83\n",
      "Yes     9\n",
      "Name: count, dtype: int64\n",
      "motivation_certifications\n",
      "No     89\n",
      "Yes     3\n",
      "Name: count, dtype: int64\n",
      "motivation_financial\n",
      "No     72\n",
      "Yes    20\n",
      "Name: count, dtype: int64\n",
      "motivation_personal\n",
      "Yes    48\n",
      "No     44\n",
      "Name: count, dtype: int64\n",
      "motivation_curiosity\n",
      "Yes    47\n",
      "No     45\n",
      "Name: count, dtype: int64\n"
     ]
    }
   ],
   "source": [
    "# print out the the number of \"yes\" and \"no\" from each column\n",
    "# create a list of motivation columns\n",
    "motivation_col= ['motivation_required', 'motivation_current_skills', 'motivation_career_advancement','motivation_change', 'motivation_development',  'motivation_job_displacement', 'motivation_relocation','motivation_certifications', 'motivation_financial','motivation_personal', 'motivation_curiosity']\n",
    "#loop through each column in the list and count the yes and nos\n",
    "for col in motivation_col:\n",
    "    print(df2[col].value_counts())"
   ]
  },
  {
   "cell_type": "code",
   "execution_count": 524,
   "id": "3342fd89-734f-472f-a7a3-345f8fa8b613",
   "metadata": {},
   "outputs": [
    {
     "name": "stdout",
     "output_type": "stream",
     "text": [
      "motivation_required              82\n",
      "motivation_current_skills        70\n",
      "motivation_development           65\n",
      "motivation_career_advancement    54\n",
      "motivation_personal              48\n",
      "dtype: int64\n"
     ]
    }
   ],
   "source": [
    "# select the columns from the motivation section we will use\n",
    "motivation_df= df2[['motivation_required', 'motivation_current_skills', 'motivation_career_advancement','motivation_change', 'motivation_development',  'motivation_job_displacement', 'motivation_relocation','motivation_certifications', 'motivation_financial','motivation_personal', 'motivation_curiosity']]\n",
    "# use .sum() count the number of \"yes\" in each of these columns\n",
    "top_reasons= (motivation_df == 'Yes').sum()\n",
    "# sort each column by the number of \"Yes\" into descending order\n",
    "# highest to lowest, meaning largest top reasons to smaller but still top reasons\n",
    "sorted_top_reasons= top_reasons.sort_values(ascending= False)\n",
    "# select the top 5 columns\n",
    "top_5_reasons= sorted_top_reasons.head(5)\n",
    "print(top_5_reasons)\n",
    "\n",
    "              "
   ]
  },
  {
   "cell_type": "markdown",
   "id": "d19e6a78-db2e-414f-990e-1e143e0e9ae2",
   "metadata": {},
   "source": [
    "### Now we will use these results to create a horizontal bar chart"
   ]
  },
  {
   "cell_type": "code",
   "execution_count": 526,
   "id": "44582208-6ed4-4104-9235-180f7a1817e4",
   "metadata": {},
   "outputs": [
    {
     "data": {
      "image/png": "[encoded data removed]",
      "text/plain": [
       "<Figure size 640x480 with 1 Axes>"
      ]
     },
     "metadata": {},
     "output_type": "display_data"
    }
   ],
   "source": [
    "# set x and y values\n",
    "x= ['required', 'skills', 'development', 'career','personal'] \n",
    "y= [82, 70, 65, 54, 48]\n",
    "#plot the chart\n",
    "plt.bar(x,y, color='plum')\n",
    "# add a title\n",
    "plt.title('Top Reasons Why Students Enrolled in Computing Course', fontsize=17)\n",
    "# label x-axis\n",
    "plt.xlabel(\"Reasons Why\")\n",
    "#label y-axis\n",
    "plt.ylabel(\"Number of Yes(s)\")\n",
    "#save chart to another file\n",
    "plt.savefig('Plots_Saved.png')\n",
    "\n"
   ]
  },
  {
   "cell_type": "markdown",
   "id": "e161218f-e192-444f-ae1b-68bdfb65b476",
   "metadata": {},
   "source": [
    "# Results \n",
    "## From Question 1\n",
    "### From the analysis and visualization of a bar chart above the results show the top reason students enrolled in a computing course was because it was a requirment for there major. While it was also found coming in close beind, the next two top reasons were to keep current in computing skills and professional development. The last two reasons were career advancement and personal enrichment. Those last four reasons can be useful and an opportunity for CCM's IT department to increase enrollment in computing courses."
   ]
  },
  {
   "cell_type": "markdown",
   "id": "3bdb7c7c-ada2-4377-9f2d-7aefc3134fa2",
   "metadata": {},
   "source": [
    "## Part 2: Question 2\n",
    "### \"Is there a significant difference in the motivation, interest or reason why students are taking computing classes between the different majors?\"\n",
    "### "
   ]
  },
  {
   "cell_type": "code",
   "execution_count": 529,
   "id": "93f9dd0e-c312-43aa-aae2-a31b130b43a2",
   "metadata": {},
   "outputs": [
    {
     "name": "stdout",
     "output_type": "stream",
     "text": [
      "Biology top reason: motivation_current_skills amount of yes's = 1\n",
      "Biology - Environmental Track top reason: motivation_current_skills amount of yes's = 1\n",
      "Broadcasting Arts and Technology top reason: motivation_current_skills amount of yes's = 2\n",
      "Child and Family Studies top reason: motivation_development amount of yes's = 4\n",
      "Communication top reason: motivation_current_skills amount of yes's = 0\n",
      "Criminal Justice top reason: motivation_development amount of yes's = 5\n",
      "Culinary Arts and Sciences top reason: motivation_current_skills amount of yes's = 1\n",
      "Early Childhood Education top reason: motivation_current_skills amount of yes's = 3\n",
      "Engineering Science top reason: motivation_current_skills amount of yes's = 2\n",
      "Exercise Science top reason: motivation_current_skills amount of yes's = 4\n",
      "Fire Science  top reason: motivation_change amount of yes's = 1\n",
      "History Education top reason: motivation_current_skills amount of yes's = 1\n",
      "Journalism top reason: motivation_current_skills amount of yes's = 1\n",
      "Liberal Arts top reason: motivation_current_skills amount of yes's = 10\n",
      "Music Technology top reason: motivation_current_skills amount of yes's = 1\n",
      "Musical Theatre top reason: motivation_current_skills amount of yes's = 1\n",
      "Not in a degree program top reason: motivation_current_skills amount of yes's = 3\n",
      "Nursing top reason: motivation_current_skills amount of yes's = 6\n",
      "Nursing, but not at CCM - I am a visiting student  top reason: motivation_current_skills amount of yes's = 1\n",
      "Psychology top reason: motivation_current_skills amount of yes's = 1\n",
      "Radiography top reason: motivation_development amount of yes's = 23\n",
      "analyst top reason: motivation_current_skills amount of yes's = 1\n",
      "child psychology  top reason: motivation_current_skills amount of yes's = 1\n"
     ]
    }
   ],
   "source": [
    "# select the columns we will use, I am exculding requirement because its unecessary\n",
    "motivaton_cols= ['motivation_current_skills', 'motivation_career_advancement','motivation_change', 'motivation_development',  'motivation_job_displacement', 'motivation_relocation','motivation_certifications', 'motivation_financial','motivation_personal', 'motivation_curiosity']\n",
    "# pass through each major from the major column\n",
    "for major, group in df2.groupby('major'):\n",
    "    yes_per_col= (group[motivaton_cols] == 'Yes').sum()\n",
    "    #find the number of yes's in each of the motivation columns\n",
    "    #find the top amount of yes's per each major \n",
    "    top_yes_col= yes_per_col.idxmax()\n",
    "    top_yes= yes_per_col.max()\n",
    "    #print the results of each to see difference\n",
    "    print(f\"{major} top reason: {top_yes_col} amount of yes's = {top_yes}\")"
   ]
  },
  {
   "cell_type": "markdown",
   "id": "793e300c-3b51-438f-a44f-f02a49e9d309",
   "metadata": {},
   "source": [
    "# Results\n",
    "## Question 2\n",
    "### When analyzing the results it was found there is not a signicant difference in why each major choose to enroll in a computing course. This can be because this just shows each column aside from a required course and as it appears many students selected more than one reason. It is found that for many of these sections the results match the bar chart above with keeping current in skills as a top reason. There is a few useful points that radiography had a high number for motivation professional development."
   ]
  },
  {
   "cell_type": "markdown",
   "id": "dfca3ebc-2437-443c-bd71-4808098d5a4c",
   "metadata": {},
   "source": [
    "## Part 3: Question 3\n",
    "### \"Out of the students required to take a computing class, what amount showed interest or motivation aside from a requirement?\"\n",
    "### Find the number of students that were required to take a computing course but also had other reasons why"
   ]
  },
  {
   "cell_type": "code",
   "execution_count": 532,
   "id": "afbbbad8-6e4b-4ac8-b920-080e56b40648",
   "metadata": {},
   "outputs": [
    {
     "name": "stdout",
     "output_type": "stream",
     "text": [
      "Number of students required to take course: 82\n",
      "motivation_current_skills        61\n",
      "motivation_career_advancement    48\n",
      "motivation_change                15\n",
      "motivation_development           60\n",
      "motivation_job_displacement      20\n",
      "motivation_relocation             9\n",
      "motivation_certifications         2\n",
      "motivation_financial             18\n",
      "motivation_personal              41\n",
      "motivation_curiosity             39\n",
      "dtype: int64\n",
      "motivation_current_skills        61\n",
      "motivation_development           60\n",
      "motivation_career_advancement    48\n",
      "motivation_personal              41\n",
      "motivation_curiosity             39\n",
      "dtype: int64\n"
     ]
    }
   ],
   "source": [
    "# Use df from a perious step to find number of students required to take a computing course\n",
    "number_required= (motivation_df['motivation_required'] == 'Yes').sum()\n",
    "print('Number of students required to take course:', number_required)\n",
    "\n",
    "# Start by deleting rows that answered no in the motivation required section\n",
    "required= df2[df2['motivation_required'] != 'No']\n",
    "# Then find number of yes(s) in other columns\n",
    "others_yes= (required[['motivation_current_skills', 'motivation_career_advancement','motivation_change', 'motivation_development',  'motivation_job_displacement', 'motivation_relocation','motivation_certifications', 'motivation_financial','motivation_personal', 'motivation_curiosity']] == 'Yes').sum()\n",
    "print(others_yes)\n",
    "#this shows the number of students who are required to take a computing course, but also had other reasons why\n",
    "# Then sort from top reasons and print\n",
    "sorted_yes= others_yes.sort_values(ascending= False)\n",
    "top_5_yes= sorted_yes.head(5)\n",
    "print(top_5_yes)\n",
    "\n"
   ]
  },
  {
   "cell_type": "markdown",
   "id": "b07c4af4-1108-4d20-aafa-e687024ea800",
   "metadata": {},
   "source": [
    "### Now going to show in a chart"
   ]
  },
  {
   "cell_type": "code",
   "execution_count": 534,
   "id": "8b1124c9-461b-4ebd-9c02-ab1700921c92",
   "metadata": {},
   "outputs": [
    {
     "data": {
      "image/png": "[encoded data removed]",
      "text/plain": [
       "<Figure size 640x480 with 1 Axes>"
      ]
     },
     "metadata": {},
     "output_type": "display_data"
    }
   ],
   "source": [
    "# set x and y values\n",
    "x= ['skills','development','career','personal', 'curiosity'] \n",
    "y= [61, 60, 48, 41, 39]\n",
    "#plot the chart\n",
    "plt.bar(x,y, color='cornflowerblue')\n",
    "# add a title\n",
    "plt.title('Out of Student Required to Take Course, Amt that Showed Other Interest', fontsize=17)\n",
    "# label x-axis\n",
    "plt.xlabel(\"Other Reasons Why\")\n",
    "#label y-axis\n",
    "plt.ylabel(\"Number of Yes(s)\")\n",
    "#save chart to another file\n",
    "plt.savefig('Plots_Saved.png')"
   ]
  },
  {
   "cell_type": "markdown",
   "id": "8c2b19b3-94a7-40e7-beb2-1dcd7d6275b4",
   "metadata": {},
   "source": [
    "# Results\n",
    "## Question 3\n",
    "### The results show that a high amount of students showed interest in keeping current in there skills, professional development, advancement in their career, for personal development and out of curisoity. These are good points for the department to target and inform students on how these computing courses can be useful and help them improve their skills and development in their future careers."
   ]
  },
  {
   "cell_type": "markdown",
   "id": "432bc3d7-eda3-401d-9e25-b44486a865a7",
   "metadata": {},
   "source": [
    "## Part 4: Question 4\n",
    "### \"Which major had the highest number of students who were motivated to take a computing class based on curiosity?\"\n"
   ]
  },
  {
   "cell_type": "code",
   "execution_count": 537,
   "id": "43a6de88-45e6-4fd0-9e71-e14b6639f965",
   "metadata": {},
   "outputs": [
    {
     "name": "stdout",
     "output_type": "stream",
     "text": [
      "major\n",
      "Radiography                                           13\n",
      "Liberal Arts                                           8\n",
      "Nursing                                                5\n",
      "Criminal Justice                                       4\n",
      "Child and Family Studies                               2\n",
      "Early Childhood Education                              2\n",
      "Exercise Science                                       2\n",
      "child psychology                                       1\n",
      "Journalism                                             1\n",
      "Music Technology                                       1\n",
      "Engineering Science                                    1\n",
      "Nursing, but not at CCM - I am a visiting student      1\n",
      "Not in a degree program                                1\n",
      "Psychology                                             1\n",
      "Biology                                                1\n",
      "Culinary Arts and Sciences                             1\n",
      "Biology - Environmental Track                          1\n",
      "Musical Theatre                                        1\n",
      "Name: count, dtype: int64\n"
     ]
    }
   ],
   "source": [
    "# Select rows that put yes under the motivation section in the curiosity question\n",
    "yes_curiosity_rows= df2[df2['motivation_curiosity'] == 'Yes']\n",
    "\n",
    "# count the number of each major shows up\n",
    "majors_count= yes_curiosity_rows['major'].value_counts()\n",
    "\n",
    "#Find the find the major with the highest count\n",
    "highest_major= majors_count.sort_values(ascending= False)\n",
    "print(highest_major)\n"
   ]
  },
  {
   "cell_type": "markdown",
   "id": "21681efd-fcfb-478d-af05-7ae1c816b249",
   "metadata": {},
   "source": [
    "# Results\n",
    "## Question 4\n",
    "### The results of the analysis show that Radiography had the most amount of students who's motivation to take a computing couse was curosity. While Liberal Arts came in at number two and nursing at number three. This good opportunity for the department to impliment and inform more students in there majors about these computing courses to raise more curiosity."
   ]
  },
  {
   "cell_type": "markdown",
   "id": "c69104c3-cb37-4eb2-957a-9fdca7ec04ba",
   "metadata": {},
   "source": [
    "# Citations\n",
    "Agarwal, Malay. “Pythonic Data Cleaning with Pandas and NumPy.” Real Python, Real Python, 7 Feb. 2023, realpython.com/python-data-cleaning-numpy-pandas/.\n",
    "“Pandas .Values_count() & .Plot(): Python Analysis Tutorial - Mode.” Mode Resources, 23 May 2016, mode.com/python-tutorial/counting-and-plotting-in-python.\n",
    "“Pandas.Dataframe.Rename#.” Pandas.DataFrame.Rename - Pandas 2.2.3 Documentation, pandas.pydata.org/docs/reference/api/pandas.DataFrame.rename.html. Accessed 11 Apr. 2025.\n",
    "Tenkanen, Henrikki, et al. “Plotting with Pandas and Matplotlib.” Plotting with Pandas and Matplotlib, Introduction to Python for Geographic Data Analysis, pythongis.org/part1/chapter-04/nb/01-basic-plotting.html. Accessed 11 Apr. 2025.\n",
    "“W3schools.Com.” W3Schools Online Web Tutorials, www.w3schools.com/python/pandas/pandas_analyzing.asp. Accessed 11 Apr. 2025.\n",
    "“W3schools.Com.” W3Schools Online Web Tutorials, www.w3schools.com/python/pandas/pandas_plotting.asp. Accessed 11 Apr. 2025.\n",
    "“W3schools.Com.” W3Schools Online Web Tutorials, www.w3schools.com/python/pandas/pandas_ref_dataframe.asp. Accessed 11 Apr. 2025.\n",
    "“W3schools.Com.” W3Schools Online Web Tutorials, www.w3schools.com/python/pandas/ref_df_idxmax.asp. Accessed 11 Apr. 2025. \n"
   ]
  }
 ],
 "metadata": {
  "kernelspec": {
   "display_name": "Python [conda env:base] *",
   "language": "python",
   "name": "conda-base-py"
  },
  "language_info": {
   "codemirror_mode": {
    "name": "ipython",
    "version": 3
   },
   "file_extension": ".py",
   "mimetype": "text/x-python",
   "name": "python",
   "nbconvert_exporter": "python",
   "pygments_lexer": "ipython3",
   "version": "3.12.2"
  }
 },
 "nbformat": 4,
 "nbformat_minor": 5
}
