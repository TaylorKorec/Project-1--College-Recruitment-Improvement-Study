{
 "cells": [
  {
   "cell_type": "markdown",
   "id": "bdc2aec5-197f-4c48-ba55-f874cbb2c850",
   "metadata": {},
   "source": [
    "# Introduction to Project: 1\n",
    "### Taylor Korec\n",
    "#### 2/24/2025\n",
    "#### Section 1 of this notebook will clean the data from a survey given to students by the CCM Department of Information Technologies.\n",
    "#### Then in later sectioned we will perform data analysis and create visualizations on the cleaned data\n",
    "#### Then use the finds to answer questions and give feedback to CCM IT Department"
   ]
  },
  {
   "cell_type": "markdown",
   "id": "1896988e-0600-434f-870a-6351210606e9",
   "metadata": {},
   "source": [
    "## Imports: Libraries used"
   ]
  },
  {
   "cell_type": "code",
   "execution_count": 13,
   "id": "daac4d15-3552-48d9-9124-7f9828af316e",
   "metadata": {},
   "outputs": [],
   "source": [
    "# Importing the pandas library as pd\n",
    "import pandas as pd"
   ]
  },
  {
   "cell_type": "markdown",
   "id": "087b6b7a-36ef-4e81-8d3f-ba959ea6eff7",
   "metadata": {},
   "source": [
    "# Section 1\n",
    "## Part 1: Importing\n",
    "#### Reading in the non-major 2024 survey results dataset that is in a csv file format\n",
    "### Reading that dataset into a pandas data frame "
   ]
  },
  {
   "cell_type": "code",
   "execution_count": 15,
   "id": "9a743b24-a38b-47dc-a1d8-01b9a3485f39",
   "metadata": {},
   "outputs": [],
   "source": [
    "# reading in survery file as csv in dataframe \"df2\"\n",
    "df2= pd.read_csv(\"Non-Majors Survey Results - Fall 2024.csv\")"
   ]
  },
  {
   "cell_type": "markdown",
   "id": "7a8c48af-bbbe-4f42-8828-a55d9dc176ce",
   "metadata": {},
   "source": [
    "### Renaming columns into one word, lowercase\n",
    "### this will make the column names easier to input and to read"
   ]
  },
  {
   "cell_type": "markdown",
   "id": "10a93f4e-dddd-42dd-b6a4-8bbc33cb401f",
   "metadata": {},
   "source": [
    "## Part 2: Data Cleaning Process\n",
    "\n",
    "### Rename the necessary columns into one lowercase word\n",
    "### This will make the dataset more readable and pervent errors in capitalization \n",
    "### While also creating sections using a keyword that will be in most columns that is from each section of questions asked on the survey\n",
    "### Overall renaming each column will make the data analysis and viz process easier in later steps"
   ]
  },
  {
   "cell_type": "code",
   "execution_count": 18,
   "id": "472d414a-4636-4260-9bc9-601c153a6729",
   "metadata": {},
   "outputs": [],
   "source": [
    "# Use data.rename(), and inplace= True to change the orginal dataframe\n",
    "# rename each of the columns trying to use a keyword for each section\n",
    "df2.rename(columns= {\"Timestamp\":\"timestamp\"}, inplace=True)\n",
    "df2.rename(columns= {\"Which course are you currently enrolled in?\":\"course\"}, inplace=True)\n",
    "df2.rename(columns= {\"What motivated you to seek a computing class at CCM? [It’s a required class for the degree I’m seeking]\":\"motivation_required\"}, inplace=True)\n",
    "df2.rename(columns= {\"What motivated you to seek a computing class at CCM? [To keep current in computing skills]\":\"motivation_current_skills\"}, inplace=True)\n",
    "df2.rename(columns= {\"What motivated you to seek a computing class at CCM? [Career Advancement]\":\"motivation_career_advancement\"}, inplace=True)\n",
    "df2.rename(columns= {\"What motivated you to seek a computing class at CCM? [Career Change]\":\"motivation_change\"}, inplace=True)\n",
    "df2.rename(columns= {\"What motivated you to seek a computing class at CCM? [Professional Development]\":\"motivation_development\"}, inplace=True)\n",
    "df2.rename(columns= {\"What motivated you to seek a computing class at CCM? [Job Displacement]\":\"motivation_job_displacement\"}, inplace=True)\n",
    "df2.rename(columns= {\"What motivated you to seek a computing class at CCM? [Relocation]\":\"motivation_relocation\"}, inplace=True)\n",
    "df2.rename(columns= {\"What motivated you to seek a computing class at CCM? [IT Industry Certifications]\":\"motivation_certifications\"}, inplace=True)\n",
    "df2.rename(columns= {\"What motivated you to seek a computing class at CCM? [Financial]\":\"motivation_financial\"}, inplace=True)\n",
    "df2.rename(columns= {\"What motivated you to seek a computing class at CCM? [Personal Enrichment]\":\"motivation_personal\"}, inplace=True)\n",
    "df2.rename(columns= {\"What motivated you to seek a computing class at CCM? [Curiosity]\":\"motivation_curiosity\"}, inplace=True)\n",
    "\n",
    "df2.rename(columns= {\"Prior to applying to college, did you participate in any of the following events or activities at the County College of Morris and/or with the Department of Information Technologies, if at all? [Open House]\":\"open_house\"}, inplace=True)\n",
    "df2.rename(columns= {\"Prior to applying to college, did you participate in any of the following events or activities at the County College of Morris and/or with the Department of Information Technologies, if at all? [Instant Decision Day]\":\"instant_decision\"}, inplace=True)\n",
    "df2.rename(columns= {\"Prior to applying to college, did you participate in any of the following events or activities at the County College of Morris and/or with the Department of Information Technologies, if at all? [On-Campus Information Session]\":\"oncampus_info \"}, inplace=True)\n",
    "df2.rename(columns= {\"Prior to applying to college, did you participate in any of the following events or activities at the County College of Morris and/or with the Department of Information Technologies, if at all? [TItan's Tuesday Virtual Information Session]\":\"virtual_info \"}, inplace=True)\n",
    "df2.rename(columns= {\"Prior to applying to college, did you participate in any of the following events or activities at the County College of Morris and/or with the Department of Information Technologies, if at all? [Women Who Dare]\":\"women_dare\"}, inplace=True)\n",
    "df2.rename(columns= {\"Prior to applying to college, did you participate in any of the following events or activities at the County College of Morris and/or with the Department of Information Technologies, if at all? [Regional College Fair]\":\"college_fair\"}, inplace=True)\n",
    "df2.rename(columns= {\"What degree program are you currently enrolled in?\":\"Major\"}, inplace= True)\n",
    "df2.rename(columns= {\"Did you receive information about our computing course from any of the following sources? [High school guidance counselor]\":\"computing_hs_counselor\"}, inplace= True)\n",
    "df2.rename(columns= {\"Did you receive information about our computing course from any of the following sources? [CCM Information Technologies Website]\":\"website\"}, inplace= True)\n",
    "df2.rename(columns= {\"Did you receive information about our computing course from any of the following sources? [CCM Admissions]\":\"admissions\"}, inplace= True)\n",
    "df2.rename(columns= {\"Did you receive information about our computing course from any of the following sources? [CCM advisor/counselor]\":\"advisor_counselor\"}, inplace= True)\n",
    "df2.rename(columns= {\"Did you receive information about our computing course from any of the following sources? [Employer]\":\"employer\"}, inplace= True)\n",
    "df2.rename(columns= {\"Did you receive information about our computing course from any of the following sources? [Other]\":\"info_other\"}, inplace= True)\n",
    "df2.rename(columns= {\"On a scale of 1 to 5, with 1 being not at all interested and 5 being extremely interested, how interested are you taking more courses in Computer Science, Information Technology or Game Development?\":\"scale\"}, inplace= True)\n",
    "df2.rename(columns= {\"If you answered that you were interested in taking more computing classes, which ones interest you most? [Web Development]\":\"web_development\"}, inplace= True)\n",
    "df2.rename(columns= {\"If you answered that you were interested in taking more computing classes, which ones interest you most? [CyberSecurity]\":\"cybersecurity\"}, inplace= True)\n",
    "df2.rename(columns= {\"If you answered that you were interested in taking more computing classes, which ones interest you most? [App Development]\":\"app_development\"}, inplace= True)\n",
    "df2.rename(columns= {\"If you answered that you were interested in taking more computing classes, which ones interest you most? [Data Analytics]\":\"data_analytics\"}, inplace= True)\n",
    "df2.rename(columns= {\"If you answered that you were interested in taking more computing classes, which ones interest you most? [Machine Learning/Artificial Intelligence]\":\"ml_ai\"}, inplace= True)\n",
    "df2.rename(columns= {\"If you answered that you were interested in taking more computing classes, which ones interest you most? [Computer Programming]\":\"comp_prog\"}, inplace= True)\n",
    "df2.rename(columns= {\"If you answered that you were interested in taking more computing classes, which ones interest you most? [Game Design]\":\"game\"}, inplace= True)\n",
    "df2.rename(columns= {\"If you answered that you were interested in taking more computing classes, which ones interest you most? [Hardware Installation & Repair]\":\" hardware \"}, inplace= True)\n",
    "df2.rename(columns= {\"To what extent did the following activities or experience impact your decision to enroll in an computing course at CCM? [Family or friend influence]\": \"enroll_fri_fam\"}, inplace= True) \n",
    "df2.rename(columns= {\"Major\":\"majors\"}, inplace= True)\n",
    "\n",
    "\n",
    "\n",
    "\n",
    "\n"
   ]
  },
  {
   "cell_type": "markdown",
   "id": "977a0ccc-0837-4063-baf9-4bbc54f9c077",
   "metadata": {},
   "source": [
    "### dropping unnessesary columns\n",
    "### to declutter dataframe and give more accurate results in the data analysis process"
   ]
  },
  {
   "cell_type": "code",
   "execution_count": 20,
   "id": "9e0248a2-2eaf-4de5-9428-f540657d6906",
   "metadata": {},
   "outputs": [],
   "source": [
    "# Use data.drop() to drop these columns\n",
    "# Use inplace= True to change the orginal dataframe\n",
    "df2.drop(columns= [\"To what extent did the following activities or experience impact your decision to enroll in an computing course at CCM? [Middle/High school computing class]\"], inplace= True)\n",
    "df2.drop(columns=[\"To what extent did the following activities or experience impact your decision to enroll in an computing course at CCM? [Middle/High school computing related club]\",\"To what extent did the following activities or experience impact your decision to enroll in an computing course at CCM? [Computing-related competitions (e.g., Robotics competition, Lego competition, Cybersecurity, Programming)]\", \"To what extent did the following activities or experience impact your decision to enroll in an computing course at CCM? [Afterschool computing-related camp/program]\"], inplace= True)\n",
    "df2.drop(columns=[\"To what extent did the following activities or experience impact your decision to enroll in an computing course at CCM? [Summer computing related camp/program]\", \"To what extent did the following activities or experience impact your decision to enroll in an computing course at CCM? [An AP computing class]\", \"To what extent did the following activities or experience impact your decision to enroll in an computing course at CCM? [A dual enrollment computing class]\", \"To what extent did the following activities or experience impact your decision to enroll in an computing course at CCM? [Family or friend working in the computing field]\", \"To what extent did the following activities or experience impact your decision to enroll in an computing course at CCM? [High school teacher or guidance counselor]\", \"To what extent did the following activities or experience impact your decision to enroll in an computing course at CCM? [Employer influence]\"],inplace= True)\n",
    "df2.drop(columns=[\"How did you hear about County College of Morris  [CCM Web site]\", \"How did you hear about County College of Morris  [Billboard]\", \"How did you hear about County College of Morris  [Television]\", \"How did you hear about County College of Morris  [Radio]\", \"How did you hear about County College of Morris  [Social Media]\", \"How did you hear about County College of Morris  [Community Event]\", \"How did you hear about County College of Morris  [Family member or friend]\", \"How did you hear about County College of Morris  [Employer]\", \"How did you hear about County College of Morris  [Current student]\", \"How did you hear about County College of Morris  [Alumni]\", \"How did you hear about County College of Morris  [High School]\"], inplace= True)\n",
    "df2.drop(columns=[\"To what extent did the following impact your decision to attend County College of Morris? [Affordable cost]\", \"To what extent did the following impact your decision to attend County College of Morris? [Location/convenience]\", \"To what extent did the following impact your decision to attend County College of Morris? [Choice of programs]\", \"To what extent did the following impact your decision to attend County College of Morris? [Online offerings]\", \"To what extent did the following impact your decision to attend County College of Morris? [Family/friend referral]\", \"To what extent did the following impact your decision to attend County College of Morris? [Faculty/staff]\", \"To what extent did the following impact your decision to attend County College of Morris? [College reputation]\", \"To what extent did the following impact your decision to attend County College of Morris? [Scholarships]\", \"To what extent did the following impact your decision to attend County College of Morris? [Transfer student]\", \"To what extent did the following impact your decision to attend County College of Morris? [Small class sizes]\", \"To what extent did the following impact your decision to attend County College of Morris? [Extra curricula opportunities]\"], inplace= True)\n",
    "df2.drop(columns=[\"Gender\",\"Race/ethnicity\", \"Age \"], inplace= True)\n",
    "\n"
   ]
  },
  {
   "cell_type": "markdown",
   "id": "653b4e36-f654-434f-a483-65b610fd3ed4",
   "metadata": {},
   "source": [
    "### Checking to make sure columns were renamed and unnessesary columns were dropped"
   ]
  },
  {
   "cell_type": "code",
   "execution_count": 22,
   "id": "369d535c-3c29-4de4-adb0-bfbb6bd6c696",
   "metadata": {},
   "outputs": [
    {
     "data": {
      "text/plain": [
       "Index(['timestamp', 'course', 'motivation_required',\n",
       "       'motivation_current_skills', 'motivation_career_advancement',\n",
       "       'motivation_change', 'motivation_development',\n",
       "       'motivation_job_displacement', 'motivation_relocation',\n",
       "       'motivation_certifications', 'motivation_financial',\n",
       "       'motivation_personal', 'motivation_curiosity', 'open_house',\n",
       "       'instant_decision', 'oncampus_info ', 'virtual_info ', 'women_dare',\n",
       "       'college_fair', 'enroll_fri_fam', 'majors', 'computing_hs_counselor',\n",
       "       'website', 'admissions', 'advisor_counselor', 'employer', 'info_other',\n",
       "       'scale', 'web_development', 'cybersecurity', 'app_development',\n",
       "       'data_analytics', 'ml_ai', 'comp_prog', 'game', ' hardware '],\n",
       "      dtype='object')"
      ]
     },
     "execution_count": 22,
     "metadata": {},
     "output_type": "execute_result"
    }
   ],
   "source": [
    "df2.columns"
   ]
  }
 ],
 "metadata": {
  "kernelspec": {
   "display_name": "Python [conda env:base] *",
   "language": "python",
   "name": "conda-base-py"
  },
  "language_info": {
   "codemirror_mode": {
    "name": "ipython",
    "version": 3
   },
   "file_extension": ".py",
   "mimetype": "text/x-python",
   "name": "python",
   "nbconvert_exporter": "python",
   "pygments_lexer": "ipython3",
   "version": "3.12.2"
  }
 },
 "nbformat": 4,
 "nbformat_minor": 5
}
